{
 "cells": [
  {
   "cell_type": "code",
   "execution_count": 1,
   "metadata": {},
   "outputs": [],
   "source": [
    "import sys\n",
    "sys.path.append('..')"
   ]
  },
  {
   "cell_type": "code",
   "execution_count": 2,
   "metadata": {},
   "outputs": [],
   "source": [
    "import asyncio\n",
    "\n",
    "import tqdm\n",
    "import aiohttp\n",
    "\n",
    "from misc.asynctools import agnostic"
   ]
  },
  {
   "cell_type": "code",
   "execution_count": 3,
   "metadata": {},
   "outputs": [],
   "source": [
    "async def get_one(*args, session=None, **kwargs):\n",
    "    if session is None:\n",
    "        async with aiohttp.ClientSession() as session:\n",
    "            return await get_one(*args, session=session, **kwargs)\n",
    "    async with session.get(*args, **kwargs) as response:\n",
    "        try:\n",
    "            response.body = await response.read()\n",
    "            response.sucess = True\n",
    "        except Exception as exception:\n",
    "            response.exception = exception\n",
    "            response.sucess = False\n",
    "        return response"
   ]
  },
  {
   "cell_type": "code",
   "execution_count": 4,
   "metadata": {},
   "outputs": [
    {
     "data": {
      "text/plain": [
       "'<!doctype html>\\n<!--[if lt IE 7]>   <html class=\"no-js ie6 lt-ie7 lt-ie8 lt-ie9\">   <![endif]-->\\n<!--[if IE 7]>      <html class=\"no-js ie7 lt-ie8 lt-ie9\">          <![endif]-->\\n<!--[if IE 8]>      <html class=\"no-js ie8 lt-ie9\">                 <![endif]-->\\n<!--[if gt IE 8]><!--><html class=\"no-js\" lang=\"en\" dir=\"ltr\">  <!--<![endif]-->\\n\\n<head>\\n    <meta charset=\"utf-8\">\\n    <meta http-equiv=\"X-UA-Compatible\" content=\"IE=edge\">\\n\\n    <link rel=\"prefetch\" href=\"//ajax.googleapis.com/ajax/libs/jquery/1.8.2/jquery.min.js\">\\n\\n    <meta name=\"application-name\" content=\"Python.org\">\\n    <meta name=\"msapplication-tooltip\" content=\"The official home of the Python Programming Language\">\\n    <meta name=\"apple-mobile-web-app-title\" content=\"Python.org\">\\n    <meta name=\"apple-mobile-web-app-capable\" content=\"yes\">\\n    <meta name=\"apple-mobile-web-app-status-bar-style\" content=\"black\">\\n\\n    <meta name=\"viewport\" content=\"width=device-width, initial-scale=1.0\">\\n    <meta name=\"HandheldFriendly\" conte'"
      ]
     },
     "execution_count": 4,
     "metadata": {},
     "output_type": "execute_result"
    }
   ],
   "source": [
    "r = asyncio.run(get_one('http://python.org'))\n",
    "r.body.decode(r.charset)[:1000]"
   ]
  },
  {
   "cell_type": "code",
   "execution_count": 5,
   "metadata": {},
   "outputs": [],
   "source": [
    "async def get_all(urls,\n",
    "                  *args,\n",
    "                  session=None,\n",
    "                  show_progress=False,\n",
    "                  pbar=None,\n",
    "                  **kwargs,\n",
    "                  ):\n",
    "    if session is None:\n",
    "        _len = len(urls)\n",
    "        connector = aiohttp.TCPConnector(limit=_len, limit_per_host=_len)\n",
    "        async with aiohttp.ClientSession(connector=connector) as session:\n",
    "            return await get_all(\n",
    "                urls,\n",
    "                *args,\n",
    "                session=session,\n",
    "                show_progress=show_progress,\n",
    "                pbar=pbar,\n",
    "                **kwargs,\n",
    "            )\n",
    "\n",
    "    if show_progress and pbar is None:\n",
    "        with tqdm.tqdm(total=len(urls)) as pbar:\n",
    "            return await get_all(\n",
    "                urls,\n",
    "                *args,\n",
    "                session=session,\n",
    "                show_progress=show_progress,\n",
    "                pbar=pbar,\n",
    "                **kwargs,\n",
    "            )\n",
    "\n",
    "    async def mapper(url):\n",
    "        result = await get_one(url, *args, session=session, **kwargs)\n",
    "        if show_progress:\n",
    "            pbar.update(1)\n",
    "        return result\n",
    "\n",
    "    return await asyncio.gather(*map(mapper, urls))"
   ]
  },
  {
   "cell_type": "code",
   "execution_count": 7,
   "metadata": {},
   "outputs": [
    {
     "name": "stderr",
     "output_type": "stream",
     "text": [
      "100%|██████████| 9/9 [00:01<00:00,  5.41it/s]"
     ]
    },
    {
     "name": "stdout",
     "output_type": "stream",
     "text": [
      "True 200\n",
      "True 200\n",
      "True 200\n",
      "True 200\n",
      "True 200\n",
      "True 200\n",
      "True 200\n",
      "True 200\n",
      "True 200\n"
     ]
    },
    {
     "name": "stderr",
     "output_type": "stream",
     "text": [
      "\n"
     ]
    }
   ],
   "source": [
    "rs = asyncio.run(get_all([\n",
    "    'http://python.org',\n",
    "    'http://python.org',\n",
    "    'http://python.org',\n",
    "    'http://nodejs.org',\n",
    "    'http://nodejs.org',\n",
    "    'http://nodejs.org',\n",
    "    'http://php.net',\n",
    "    'http://php.net',\n",
    "    'http://php.net',\n",
    "], show_progress=True))\n",
    "\n",
    "for r in rs:\n",
    "    print(r.sucess, r.status)"
   ]
  },
  {
   "cell_type": "code",
   "execution_count": null,
   "metadata": {},
   "outputs": [],
   "source": []
  },
  {
   "cell_type": "code",
   "execution_count": null,
   "metadata": {},
   "outputs": [],
   "source": []
  },
  {
   "cell_type": "code",
   "execution_count": null,
   "metadata": {},
   "outputs": [],
   "source": []
  },
  {
   "cell_type": "code",
   "execution_count": null,
   "metadata": {},
   "outputs": [],
   "source": []
  },
  {
   "cell_type": "code",
   "execution_count": null,
   "metadata": {},
   "outputs": [],
   "source": []
  }
 ],
 "metadata": {
  "kernelspec": {
   "display_name": "Python 3",
   "language": "python",
   "name": "python3"
  },
  "language_info": {
   "codemirror_mode": {
    "name": "ipython",
    "version": 3
   },
   "file_extension": ".py",
   "mimetype": "text/x-python",
   "name": "python",
   "nbconvert_exporter": "python",
   "pygments_lexer": "ipython3",
   "version": "3.7.0"
  }
 },
 "nbformat": 4,
 "nbformat_minor": 2
}
