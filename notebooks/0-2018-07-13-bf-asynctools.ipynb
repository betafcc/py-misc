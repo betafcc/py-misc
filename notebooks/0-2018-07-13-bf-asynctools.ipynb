{
 "cells": [
  {
   "cell_type": "markdown",
   "metadata": {},
   "source": [
    "### JS's Promise.resolve equivalent"
   ]
  },
  {
   "cell_type": "markdown",
   "metadata": {},
   "source": [
    "In JS, you can wrap a value in a dummy promise, if the value is itself a promise, returns itself"
   ]
  },
  {
   "cell_type": "code",
   "execution_count": 9,
   "metadata": {},
   "outputs": [
    {
     "data": {
      "text/plain": [
       "10"
      ]
     },
     "execution_count": 9,
     "metadata": {},
     "output_type": "execute_result"
    }
   ],
   "source": [
    "asyncio.run(resolve(10))"
   ]
  },
  {
   "cell_type": "code",
   "execution_count": 10,
   "metadata": {},
   "outputs": [],
   "source": [
    "import asyncio\n",
    "from collections.abc import Awaitable\n",
    "\n",
    "\n",
    "async def resolve(coro):\n",
    "    if isinstance(coro, Awaitable):\n",
    "        return await coro\n",
    "    return coro"
   ]
  },
  {
   "cell_type": "code",
   "execution_count": 11,
   "metadata": {},
   "outputs": [
    {
     "data": {
      "text/plain": [
       "10"
      ]
     },
     "execution_count": 11,
     "metadata": {},
     "output_type": "execute_result"
    }
   ],
   "source": [
    "asyncio.run(resolve(10))"
   ]
  },
  {
   "cell_type": "code",
   "execution_count": 12,
   "metadata": {},
   "outputs": [
    {
     "data": {
      "text/plain": [
       "42"
      ]
     },
     "execution_count": 12,
     "metadata": {},
     "output_type": "execute_result"
    }
   ],
   "source": [
    "async def foo():\n",
    "    return 42\n",
    "\n",
    "asyncio.run(resolve(foo()))"
   ]
  },
  {
   "cell_type": "markdown",
   "metadata": {},
   "source": [
    "## @sync decorator"
   ]
  },
  {
   "cell_type": "markdown",
   "metadata": {},
   "source": [
    "A decorator that turns a async function into a normal function, auto calling asyncio.run"
   ]
  },
  {
   "cell_type": "code",
   "execution_count": 1,
   "metadata": {},
   "outputs": [],
   "source": [
    "import asyncio\n",
    "from functools import wraps\n",
    "\n",
    "\n",
    "def sync(f):\n",
    "    @wraps(f)\n",
    "    def _sync(*args, **kwargs):\n",
    "        return asyncio.run(f(*args, **kwargs))\n",
    "    return _sync"
   ]
  },
  {
   "cell_type": "code",
   "execution_count": 2,
   "metadata": {},
   "outputs": [
    {
     "data": {
      "text/plain": [
       "42"
      ]
     },
     "execution_count": 2,
     "metadata": {},
     "output_type": "execute_result"
    }
   ],
   "source": [
    "@sync\n",
    "async def foo():\n",
    "    return 42\n",
    "\n",
    "foo()"
   ]
  },
  {
   "cell_type": "markdown",
   "metadata": {},
   "source": [
    "## @agnostic decorator"
   ]
  },
  {
   "cell_type": "markdown",
   "metadata": {},
   "source": [
    "Turns a normal coroutine function into a agnostic version of it, that is, if called outside a running loop, awaits it with asyncio.run"
   ]
  },
  {
   "cell_type": "code",
   "execution_count": 11,
   "metadata": {},
   "outputs": [],
   "source": [
    "import asyncio\n",
    "from functools import wraps\n",
    "from collections.abc import Awaitable\n",
    "\n",
    "\n",
    "def agnostic(f):\n",
    "    @wraps(f)\n",
    "    def _agnostic(*args, **kwargs):\n",
    "        result = f(*args, **kwargs)\n",
    "        if not isinstance(result, Awaitable):\n",
    "            return result\n",
    "        try:\n",
    "            asyncio.get_running_loop()\n",
    "            return result\n",
    "        except RuntimeError:\n",
    "            return asyncio.run(result)\n",
    "    return _agnostic"
   ]
  },
  {
   "cell_type": "code",
   "execution_count": 14,
   "metadata": {},
   "outputs": [
    {
     "data": {
      "text/plain": [
       "42"
      ]
     },
     "execution_count": 14,
     "metadata": {},
     "output_type": "execute_result"
    }
   ],
   "source": [
    "@agnostic\n",
    "async def foo():\n",
    "    return 42\n",
    "\n",
    "foo()"
   ]
  },
  {
   "cell_type": "code",
   "execution_count": 15,
   "metadata": {},
   "outputs": [
    {
     "data": {
      "text/plain": [
       "42"
      ]
     },
     "execution_count": 15,
     "metadata": {},
     "output_type": "execute_result"
    }
   ],
   "source": [
    "async def main():\n",
    "    return await foo()\n",
    "\n",
    "asyncio.run(main())"
   ]
  },
  {
   "cell_type": "code",
   "execution_count": 16,
   "metadata": {},
   "outputs": [
    {
     "data": {
      "text/plain": [
       "42"
      ]
     },
     "execution_count": 16,
     "metadata": {},
     "output_type": "execute_result"
    }
   ],
   "source": [
    "@agnostic\n",
    "def sync_foo():\n",
    "    return 42\n",
    "\n",
    "sync_foo()"
   ]
  },
  {
   "cell_type": "markdown",
   "metadata": {},
   "source": [
    "## AsyncQueue"
   ]
  },
  {
   "cell_type": "markdown",
   "metadata": {},
   "source": [
    "A queue-like with a `submit` and a `get_done` method for coroutine running"
   ]
  },
  {
   "cell_type": "code",
   "execution_count": 1,
   "metadata": {},
   "outputs": [],
   "source": [
    "import asyncio\n",
    "\n",
    "\n",
    "class AsyncQueue:\n",
    "    def __init__(self, *args, loop=None, **kwargs):\n",
    "        if loop is None:\n",
    "            self._loop = asyncio.get_event_loop()\n",
    "        else:\n",
    "            self._loop = loop\n",
    "        self._done = asyncio.Queue(*args, loop=loop, **kwargs)\n",
    "\n",
    "    def submit(self, f, *args, **kwargs):\n",
    "        async def _():\n",
    "            result = await f(*args, **kwargs)\n",
    "            await self._done.put(result)\n",
    "            return result\n",
    "        return self._loop.create_task(_())\n",
    "\n",
    "    def get_done(self):\n",
    "        return self._done.get()"
   ]
  },
  {
   "cell_type": "code",
   "execution_count": 2,
   "metadata": {},
   "outputs": [
    {
     "name": "stdout",
     "output_type": "stream",
     "text": [
      "0\n",
      "1\n",
      "2\n",
      "3\n",
      "4\n"
     ]
    }
   ],
   "source": [
    "async def wrap(x):\n",
    "    return x\n",
    "\n",
    "\n",
    "q = AsyncQueue()\n",
    "\n",
    "for i in range(5):\n",
    "    q.submit(wrap, i)\n",
    "\n",
    "\n",
    "async def main():\n",
    "    for i in range(5):\n",
    "        print(await q.get_done())\n",
    "\n",
    "\n",
    "asyncio.get_event_loop().run_until_complete(main())"
   ]
  },
  {
   "cell_type": "markdown",
   "metadata": {},
   "source": [
    "## as_completed_map"
   ]
  },
  {
   "cell_type": "markdown",
   "metadata": {},
   "source": [
    "Maps a coroutine function to a iterable, yielding completed results"
   ]
  },
  {
   "cell_type": "code",
   "execution_count": 3,
   "metadata": {},
   "outputs": [],
   "source": [
    "import asyncio\n",
    "\n",
    "\n",
    "async def as_completed_map(f, it):\n",
    "    _ = map(f, it)\n",
    "    _ = map(asyncio.ensure_future, _)\n",
    "    _ = asyncio.as_completed(list(_))\n",
    "\n",
    "    for completed in _:\n",
    "        yield await completed"
   ]
  },
  {
   "cell_type": "code",
   "execution_count": 5,
   "metadata": {},
   "outputs": [
    {
     "name": "stdout",
     "output_type": "stream",
     "text": [
      "1\n",
      "2\n",
      "3\n",
      "4\n",
      "5\n"
     ]
    }
   ],
   "source": [
    "async def sleep_print(x):\n",
    "    await asyncio.sleep(x)\n",
    "    return x\n",
    "\n",
    "\n",
    "async def main():\n",
    "    nums = [4, 3, 5, 1, 2]\n",
    "    async for el in as_completed_map(sleep_print, nums):\n",
    "        print(el)\n",
    "\n",
    "asyncio.run(main())"
   ]
  },
  {
   "cell_type": "code",
   "execution_count": null,
   "metadata": {},
   "outputs": [],
   "source": []
  },
  {
   "cell_type": "code",
   "execution_count": null,
   "metadata": {},
   "outputs": [],
   "source": []
  },
  {
   "cell_type": "code",
   "execution_count": null,
   "metadata": {},
   "outputs": [],
   "source": []
  }
 ],
 "metadata": {
  "kernelspec": {
   "display_name": "Python 3",
   "language": "python",
   "name": "python3"
  },
  "language_info": {
   "codemirror_mode": {
    "name": "ipython",
    "version": 3
   },
   "file_extension": ".py",
   "mimetype": "text/x-python",
   "name": "python",
   "nbconvert_exporter": "python",
   "pygments_lexer": "ipython3",
   "version": "3.7.0"
  }
 },
 "nbformat": 4,
 "nbformat_minor": 2
}
